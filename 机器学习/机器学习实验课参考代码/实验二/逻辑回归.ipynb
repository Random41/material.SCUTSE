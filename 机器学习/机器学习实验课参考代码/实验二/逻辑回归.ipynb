{
 "cells": [
  {
   "cell_type": "code",
   "execution_count": 1,
   "metadata": {},
   "outputs": [],
   "source": [
    "from numpy import *\n",
    "import jupyter as jp\n",
    "import matplotlib.pyplot as plt\n",
    "from sklearn import datasets as ds\n",
    "from sklearn import model_selection as ms\n",
    "from sklearn.metrics import classification_report\n",
    "import math"
   ]
  },
  {
   "cell_type": "code",
   "execution_count": 12,
   "metadata": {},
   "outputs": [],
   "source": [
    "def loss_logitic(X,W,y): #逻辑损失\n",
    "    m = X.shape[0]\n",
    "    cnt=0\n",
    "    tmp = y_train * dot(X_train, W)\n",
    "    for i in range(m):\n",
    "        a= tmp[i]\n",
    "        b=math.pow(math.e,a)\n",
    "        c=math.log(1+b)\n",
    "        cnt+=float(c)\n",
    "    return cnt/n\n",
    "\n",
    "def Loss_MSE(X,W,y): #平均误差\n",
    "    m=X.shape[0]\n",
    "    a=transpose(dot(X,W)-y)\n",
    "    b=dot(X,W)-y\n",
    "    return dot(a,b)/(2*m)\n",
    "\n",
    "def hw(x): #意义同hw（x)\n",
    "    return 1-1/(1+math.pow(math.e,-x))\n",
    "\n",
    "def load_train_data(): #加载训练数据\n",
    "    dataset = ds.load_svmlight_file(\"dataset\\\\a9a.txt\",n_features=123)\n",
    "    return dataset[0],dataset[1]\n",
    "\n",
    "def load_test_data(): #加载测试数据\n",
    "    dataset = ds.load_svmlight_file(\"dataset\\\\a9at.txt\",n_features=123)\n",
    "    return dataset[0], dataset[1]\n",
    "\n",
    "#C为超参数\n",
    "#梯度下降\n",
    "def gradient_descent(X_train,X_val,y_train,y_val,W,alpha,loop_num,C):\n",
    "    losses_train=[]\n",
    "    losses_val=[]\n",
    "\n",
    "    for epoch in range(loop_num):\n",
    "        cnt_hw_y = zeros(W.shape[0]).reshape(-1,1) #梯度\n",
    "        tmp = dot(X_train,W)\n",
    "        for i in range(tmp.shape[0]):\n",
    "            a=tmp[i]\n",
    "            b=(a-y_train[i])*X_train[i]\n",
    "            cnt_hw_y = cnt_hw_y+b.reshape(-1,1)\n",
    "        cnt_hw_y=cnt_hw_y/tmp.shape[0]\n",
    "        cnt_hw_y=cnt_hw_y+C*W\n",
    "        W=W-alpha*cnt_hw_y#更新W\n",
    "\n",
    "        y_predict_train = where(dot(X_train, W) > 0, 1, -1)\n",
    "        loss_train = float(Loss_MSE(X_train,W,y_train)) #平均误差\n",
    "        losses_train.append(loss_train )\n",
    "\n",
    "        y_predict_val = where( dot(X_val, W) > 0, 1, -1)\n",
    "        loss_val = float(Loss_MSE(X_val,W,y_val))#平均误差\n",
    "        losses_val.append(loss_val)\n",
    "\n",
    "    return W,losses_train,losses_val #返回W和loss\n",
    "\n"
   ]
  },
  {
   "cell_type": "code",
   "execution_count": 13,
   "metadata": {},
   "outputs": [],
   "source": [
    "X_train,y_train=load_train_data()\n",
    "X_test,y_test=load_test_data()\n",
    "\n",
    "X_train=X_train.toarray()\n",
    "X_test=X_test.toarray()\n",
    "y_train=y_train.reshape(-1,1)\n",
    "y_test=y_test.reshape(-1,1)\n",
    "\n",
    "col_train=ones(X_train.shape[0])\n",
    "col_test=ones(X_test.shape[0])\n",
    "\n",
    "X_train=c_[col_train,X_train]\n",
    "X_test=c_[col_test,X_test]\n",
    "\n",
    "init_W = random.random((X_train.shape[1] , 1))\n",
    "#init_W=zeros(X_train.shape[1]).reshape(-1,1) #全0初始化"
   ]
  },
  {
   "cell_type": "code",
   "execution_count": 14,
   "metadata": {},
   "outputs": [],
   "source": [
    "#训练\n",
    "W,loss_train,loss_test = gradient_descent(X_train,X_test,y_train,y_test,W=init_W,alpha=0.01,loop_num=50,C=0.5)"
   ]
  },
  {
   "cell_type": "code",
   "execution_count": 15,
   "metadata": {},
   "outputs": [
    {
     "name": "stdout",
     "output_type": "stream",
     "text": [
      "              precision    recall  f1-score   support\n",
      "\n",
      "    positive     0.7689    0.6945    0.7298     12435\n",
      "    negative     0.2477    0.3253    0.2812      3846\n",
      "\n",
      "   micro avg     0.6073    0.6073    0.6073     16281\n",
      "   macro avg     0.5083    0.5099    0.5055     16281\n",
      "weighted avg     0.6458    0.6073    0.6239     16281\n",
      "\n"
     ]
    }
   ],
   "source": [
    "#打印正类负类\n",
    "print(classification_report(y_test, where(dot(X_test, W) > 0, 1, -1),target_names=[\"positive\", \"negative\"],digits=4))"
   ]
  },
  {
   "cell_type": "code",
   "execution_count": 16,
   "metadata": {},
   "outputs": [
    {
     "data": {
      "text/plain": [
       "Text(0.5, 1.0, 'The graph of loss value varing with the number of iterations')"
      ]
     },
     "execution_count": 16,
     "metadata": {},
     "output_type": "execute_result"
    },
    {
     "data": {
      "image/png": "[encoded data removed]",
      "text/plain": [
       "<Figure size 1296x432 with 1 Axes>"
      ]
     },
     "metadata": {
      "needs_background": "light"
     },
     "output_type": "display_data"
    }
   ],
   "source": [
    "#画loss图\n",
    "%matplotlib inline\n",
    "\n",
    "plt.figure(figsize=(18, 6))\n",
    "plt.plot(loss_train, color=\"r\", label=\"train\")\n",
    "plt.plot(loss_test, color=\"b\", label=\"validation\")\n",
    "plt.legend()\n",
    "plt.xlabel(\"epoch\")\n",
    "plt.ylabel(\"loss\")\n",
    "plt.title(\"The graph of loss value varing with the number of iterations\")"
   ]
  },
  {
   "cell_type": "code",
   "execution_count": null,
   "metadata": {},
   "outputs": [],
   "source": []
  }
 ],
 "metadata": {
  "kernelspec": {
   "display_name": "Python 3",
   "language": "python",
   "name": "python3"
  },
  "language_info": {
   "codemirror_mode": {
    "name": "ipython",
    "version": 3
   },
   "file_extension": ".py",
   "mimetype": "text/x-python",
   "name": "python",
   "nbconvert_exporter": "python",
   "pygments_lexer": "ipython3",
   "version": "3.7.3"
  }
 },
 "nbformat": 4,
 "nbformat_minor": 2
}
