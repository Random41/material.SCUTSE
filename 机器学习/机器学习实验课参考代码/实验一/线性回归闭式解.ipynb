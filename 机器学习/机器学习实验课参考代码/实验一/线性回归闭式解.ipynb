{
 "cells": [
  {
   "cell_type": "code",
   "execution_count": 1,
   "metadata": {},
   "outputs": [],
   "source": [
    "import sklearn as sl\n",
    "from numpy import *\n",
    "import jupyter as jp\n",
    "import matplotlib.pyplot as plt\n",
    "from sklearn import datasets as ds\n",
    "from sklearn import model_selection as ms\n"
   ]
  },
  {
   "cell_type": "code",
   "execution_count": 2,
   "metadata": {},
   "outputs": [],
   "source": [
    "def Loss_MSE(X,W,y): #平均误差\n",
    "    m=X.shape[0]\n",
    "    a=transpose(dot(X,W)-y)\n",
    "    b=dot(X,W)-y\n",
    "    return dot(a,b)/(2*m)\n",
    "\n",
    "def getW(X,y): #闭式解公式\n",
    "    a = linalg.inv(dot(transpose(X),X))\n",
    "    b = dot(transpose(X),y)\n",
    "    return dot(a,b)\n",
    "\n",
    "\n",
    "def load_data():#加载数据\n",
    "    dataset = ds.load_svmlight_file(\"dataset\\\\housing_scale.txt\")\n",
    "    return dataset[0],dataset[1]"
   ]
  },
  {
   "cell_type": "code",
   "execution_count": 3,
   "metadata": {},
   "outputs": [],
   "source": [
    "X,y=load_data()\n",
    "X_train,X_test,y_train,y_test=ms.train_test_split(X,y,test_size=0.3,random_state=0)\n",
    "\n",
    "X_train=X_train.toarray()\n",
    "X_test=X_test.toarray()\n",
    "y_train=y_train.reshape(-1,1)\n",
    "y_test=y_test.reshape(-1,1)\n",
    "\n",
    "col_train=ones(X_train.shape[0])\n",
    "col_test=ones(X_test.shape[0])\n",
    "\n",
    "X_train=c_[col_train,X_train]\n",
    "X_test=c_[col_test,X_test]"
   ]
  },
  {
   "cell_type": "code",
   "execution_count": 4,
   "metadata": {},
   "outputs": [
    {
     "name": "stdout",
     "output_type": "stream",
     "text": [
      "[[11.48046671]\n",
      " [-5.39648096]\n",
      " [ 2.22332221]\n",
      " [ 0.15470208]\n",
      " [ 1.25562347]\n",
      " [-3.94419607]\n",
      " [10.07023938]\n",
      " [-0.48477898]\n",
      " [-8.24915378]\n",
      " [ 2.78464858]\n",
      " [-2.90076247]\n",
      " [-4.78343739]\n",
      " [ 1.35123936]\n",
      " [-8.81969366]]\n"
     ]
    }
   ],
   "source": [
    "Closed_form_Solution=getW(X_train,y_train) #算得闭式解\n",
    "\n",
    "print(Closed_form_Solution) #打印闭式解"
   ]
  },
  {
   "cell_type": "code",
   "execution_count": 5,
   "metadata": {},
   "outputs": [
    {
     "name": "stdout",
     "output_type": "stream",
     "text": [
      "[[9.97910999]]\n",
      "[[13.59798347]]\n"
     ]
    }
   ],
   "source": [
    "loss_train=Loss_MSE(X_train,Closed_form_Solution,y_train)\n",
    "loss_test=Loss_MSE(X_test,Closed_form_Solution,y_test)\n",
    "\n",
    "print(loss_train) #打印训练集误差\n",
    "print(loss_test) #打印测试集误差"
   ]
  },
  {
   "cell_type": "code",
   "execution_count": null,
   "metadata": {},
   "outputs": [],
   "source": []
  }
 ],
 "metadata": {
  "kernelspec": {
   "display_name": "Python 3",
   "language": "python",
   "name": "python3"
  },
  "language_info": {
   "codemirror_mode": {
    "name": "ipython",
    "version": 3
   },
   "file_extension": ".py",
   "mimetype": "text/x-python",
   "name": "python",
   "nbconvert_exporter": "python",
   "pygments_lexer": "ipython3",
   "version": "3.7.3"
  }
 },
 "nbformat": 4,
 "nbformat_minor": 2
}
